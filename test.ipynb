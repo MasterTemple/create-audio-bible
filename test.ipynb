{
 "cells": [
  {
   "cell_type": "code",
   "execution_count": 5,
   "metadata": {},
   "outputs": [],
   "source": [
    "import json\n",
    "\n",
    "with open(\"/home/dgmastertemple/Documents/GitHub/create-audio-bible/projects/Ephesians - Tim Conway/json/readings.json\", \"r\") as f:\n",
    "    data: dict = json.load(f)"
   ]
  },
  {
   "cell_type": "code",
   "execution_count": 10,
   "metadata": {},
   "outputs": [],
   "source": [
    "from dataclasses import dataclass\n",
    "@dataclass\n",
    "class Reading:\n",
    "    id: str\n",
    "    start_time: float\n",
    "    end_time: float\n",
    "    start_seg: int\n",
    "    end_seg: int\n"
   ]
  },
  {
   "cell_type": "code",
   "execution_count": 12,
   "metadata": {},
   "outputs": [
    {
     "name": "stdout",
     "output_type": "stream",
     "text": [
      "Ephesians 1:1\n",
      "Reading(id='69161619300', start_time=35.624, end_time=47.333, start_seg=14, end_seg=37)\n"
     ]
    }
   ],
   "source": [
    "\n",
    "for ref, finds in data.items():\n",
    "    print(ref)\n",
    "    r = Reading(**finds[0])\n",
    "    print(r)\n",
    "    break"
   ]
  },
  {
   "cell_type": "code",
   "execution_count": 1,
   "metadata": {},
   "outputs": [],
   "source": [
    "from mutagen.id3 import ID3, APIC\n",
    "\n",
    "input_file = \"/home/dgmastertemple/Documents/GitHub/create-audio-bible/projects/Ephesians - Tim Conway/export/verses/Ephesians 1:1 - Tim Conway.mp3\"\n",
    "cover_image = \"/home/dgmastertemple/Documents/GitHub/create-audio-bible/sources/ill_be_honest.jpeg\"\n",
    "\n",
    "def add_album_art(input_file: str, cover_image: str):\n",
    "    audio = ID3(input_file)\n",
    "    with open(cover_image, 'rb') as image_file:\n",
    "        image_data = image_file.read()\n",
    "    mime='image/jpeg'\n",
    "    if cover_image.endswith(\".png\"):\n",
    "        mime='image/png'\n",
    "    album_art = APIC(\n",
    "        encoding=3,  # UTF-8\n",
    "        mime=mime,\n",
    "        type=3,  # Cover (front)\n",
    "        desc='Cover (Front)',\n",
    "        data=image_data\n",
    "    )\n",
    "    audio['APIC'] = album_art\n",
    "    audio.save(input_file, v2_version=3)\n",
    "\n",
    "add_album_art(input_file, cover_image)"
   ]
  }
 ],
 "metadata": {
  "kernelspec": {
   "display_name": "Python 3",
   "language": "python",
   "name": "python3"
  },
  "language_info": {
   "codemirror_mode": {
    "name": "ipython",
    "version": 3
   },
   "file_extension": ".py",
   "mimetype": "text/x-python",
   "name": "python",
   "nbconvert_exporter": "python",
   "pygments_lexer": "ipython3",
   "version": "3.10.12"
  }
 },
 "nbformat": 4,
 "nbformat_minor": 2
}
