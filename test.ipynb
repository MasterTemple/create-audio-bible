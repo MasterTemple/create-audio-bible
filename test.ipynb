{
 "cells": [
  {
   "cell_type": "code",
   "execution_count": 5,
   "metadata": {},
   "outputs": [],
   "source": [
    "import json\n",
    "\n",
    "with open(\"/home/dgmastertemple/Documents/GitHub/create-audio-bible/projects/Ephesians - Tim Conway/json/readings.json\", \"r\") as f:\n",
    "    data: dict = json.load(f)"
   ]
  },
  {
   "cell_type": "code",
   "execution_count": 10,
   "metadata": {},
   "outputs": [],
   "source": [
    "from dataclasses import dataclass\n",
    "@dataclass\n",
    "class Reading:\n",
    "    id: str\n",
    "    start_time: float\n",
    "    end_time: float\n",
    "    start_seg: int\n",
    "    end_seg: int\n"
   ]
  },
  {
   "cell_type": "code",
   "execution_count": 12,
   "metadata": {},
   "outputs": [
    {
     "name": "stdout",
     "output_type": "stream",
     "text": [
      "Ephesians 1:1\n",
      "Reading(id='69161619300', start_time=35.624, end_time=47.333, start_seg=14, end_seg=37)\n"
     ]
    }
   ],
   "source": [
    "\n",
    "for ref, finds in data.items():\n",
    "    print(ref)\n",
    "    r = Reading(**finds[0])\n",
    "    print(r)\n",
    "    break"
   ]
  }
 ],
 "metadata": {
  "kernelspec": {
   "display_name": "Python 3",
   "language": "python",
   "name": "python3"
  },
  "language_info": {
   "codemirror_mode": {
    "name": "ipython",
    "version": 3
   },
   "file_extension": ".py",
   "mimetype": "text/x-python",
   "name": "python",
   "nbconvert_exporter": "python",
   "pygments_lexer": "ipython3",
   "version": "3.10.12"
  }
 },
 "nbformat": 4,
 "nbformat_minor": 2
}
