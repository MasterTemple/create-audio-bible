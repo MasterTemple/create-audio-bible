{
 "cells": [
  {
   "cell_type": "code",
   "execution_count": 5,
   "metadata": {},
   "outputs": [],
   "source": [
    "import pandas as pd\n",
    "import os\n",
    "import re\n",
    "from dataclasses import dataclass\n",
    "import json\n",
    "from pymongo import MongoClient\n",
    "import sqlite3\n",
    "from functions import get_current_project\n",
    "from vars import CURRENT_PROJECT_FILE, DATA_DIR, JSON_READINGS_FILE, PROJECT_DIR, PROJECT_DIR_AUDIO, PROJECT_DIR_EXPORT, PROJECT_DIR_EXPORT_VERSES, PROJECT_DIR_EXPORT_CHAPTERS, PROJECT_CONFIG_FILE_NAME, PROJECT_DOWNLOADS_DIR, PROJECT_JSON_DIR, PROJECT_TEMP_DOWNLOADS_DIR, PROJECT_TRANSCRIPTS_DIR, PROJECT_TRANSCRIPTS_DIR, PROJECT_DOWNLOADS_DIR, PROJECT_TEMP_DOWNLOADS_DIR, PROJECT_CSV_DIR, CSV_SEGMENTS_FILE, CSV_SOURCES_FILE, CSV_SEARCHES_FILE\n",
    "\n",
    "client = MongoClient('mongodb://localhost:27017/')\n",
    "db = client['ephtc']\n",
    "\n",
    "searches = {s[\"word\"]: s[\"segments\"] for s in db[\"searches\"].find({})}\n",
    "segments = {s[\"id\"]: s for s in db[\"segments\"].find({})}"
   ]
  },
  {
   "cell_type": "code",
   "execution_count": 63,
   "metadata": {},
   "outputs": [],
   "source": [
    "@dataclass\n",
    "class Reference:\n",
    "    book: str\n",
    "    chapter: int\n",
    "    verse: int\n",
    "    content: str\n",
    "\n",
    "@dataclass\n",
    "class Reading:\n",
    "    id: str\n",
    "    start_time: float\n",
    "    end_time: float\n",
    "    start_seg: int\n",
    "    end_seg: int\n",
    "\n",
    "book = \"Ephesians\"\n",
    "\n",
    "# get Bible verses\n",
    "bible_sqlite = \"ESV.sqlite\"\n",
    "with open(\"./references.json\", \"r\") as f:\n",
    "    references = json.load(f)\n",
    "\n",
    "def get_esv_content(book: str, chapter: int, verse: int) -> str:\n",
    "    con = sqlite3.connect(bible_sqlite)\n",
    "    cur = con.cursor()\n",
    "    res = cur.execute(\n",
    "        f\"SELECT content FROM '{book}' WHERE chapter={chapter} AND verse={verse} ORDER BY verse ASC;\")\n",
    "    element = res.fetchone()\n",
    "    # print(verse)\n",
    "    return element[0]\n",
    "\n",
    "def get_all_verses_and_content() -> list[Reference]:\n",
    "    refs: list[Reference] = []\n",
    "    for chapter, verses_in_chapter in enumerate(references[book]):\n",
    "        if chapter == 0:\n",
    "            continue\n",
    "        for verse in range(1, verses_in_chapter + 1):\n",
    "            content = get_esv_content(book, chapter, verse)\n",
    "            ref = Reference(book, chapter, verse, content)\n",
    "            refs.append(ref)\n",
    "    return refs\n"
   ]
  },
  {
   "cell_type": "code",
   "execution_count": 14,
   "metadata": {},
   "outputs": [],
   "source": [
    "def print_segment_range(s, e):\n",
    "    print(\" \".join([segments[i][\"content\"] for i in range(s, e + 1)]))\n"
   ]
  },
  {
   "cell_type": "code",
   "execution_count": 77,
   "metadata": {},
   "outputs": [
    {
     "name": "stdout",
     "output_type": "stream",
     "text": [
      "['therefore', 'it', 'says', 'when', 'he', 'ascended', 'on', 'high', 'he', 'led', 'a', 'host', 'of', 'captives', 'and', 'he', 'gave', 'gifts', 'to', 'men']\n",
      "[Reading(id='917181255551', start_time=69.777, end_time=75.761, start_seg=63841, end_seg=63860), Reading(id='12519162759462', start_time=211.065, end_time=218.332, start_seg=559464, end_seg=559483), Reading(id='121118172377422', start_time=320.128, end_time=329.612, start_seg=614086, end_seg=614105)]\n",
      "therefore it says, when He ascended on high, He led a host of captives and He gave gifts to men.\n",
      "therefore it says, when He ascended on high, He led a host of captives and He gave gifts to men.\n",
      "Therefore it says when He ascended on high, He led a host of captives and He gave gifts to men.\n"
     ]
    }
   ],
   "source": [
    "ch = 4\n",
    "v = 8\n",
    "ref = Reference(book, ch, v, get_esv_content(book, ch, v))\n",
    "valid_offset = 3\n",
    "accuracy = 0.7\n",
    "words = [word for word in re.split(r\"\\s\", re.sub(r\"[^A-z0-9\\s]\", \"\", ref.content.lower())) if len(word) > 0]\n",
    "word_count = len(words)\n",
    "print(words)\n",
    "\n",
    "for i, word in enumerate(words[:2]):\n",
    "    start_word = word\n",
    "    end_word = words[-1 - i]\n",
    "    start_segs = searches[start_word]\n",
    "    end_segs = searches[end_word]\n",
    "    # print(start_segs)\n",
    "    # print(end_segs)\n",
    "    # reading_segment_ranges = [(s, s + size) for s in start_segs if s + size in end_segs]\n",
    "    # segments_index = [(s, e) for s, e in zip(start_segs, end_segs) if (e - s < valid_offset) and (s > e)]\n",
    "    segments_index = [(s, e) for s in start_segs for e in end_segs if (s < e) and ((e - s - word_count) < valid_offset)]\n",
    "    # print(segments_index)\n",
    "    readings: list[Reading] = []\n",
    "    for s, e in segments_index:\n",
    "        valid_count = 0\n",
    "        # print(s, e + 1)\n",
    "        for j in range(s, e + 1):\n",
    "            # print(j - s, words[j - s])\n",
    "            if j - s >= word_count:\n",
    "                continue\n",
    "            valid_count += 1 if segments[j][\"content\"] == words[j - s] else 0\n",
    "        rating = (valid_count) / (e - s)\n",
    "        # valid segment -> give reading\n",
    "        # print(rating)\n",
    "        if rating > accuracy:\n",
    "            readings.append(\n",
    "                Reading(\n",
    "                    segments[s][\"source\"],\n",
    "                    segments[s][\"start\"],\n",
    "                    segments[e][\"end\"],\n",
    "                    s,\n",
    "                    e\n",
    "                )\n",
    "            )\n",
    "    if len(readings) > 0:\n",
    "        break\n",
    "print(readings)\n",
    "for reading in readings:\n",
    "    # print(s, e)\n",
    "    print_segment_range(reading.start_seg, reading.end_seg)\n"
   ]
  },
  {
   "cell_type": "markdown",
   "metadata": {},
   "source": []
  },
  {
   "cell_type": "code",
   "execution_count": 43,
   "metadata": {},
   "outputs": [
    {
     "name": "stdout",
     "output_type": "stream",
     "text": [
      "Paul, an apostle of Christ Jesus\n"
     ]
    }
   ],
   "source": [
    "print_segment_range(14,19)"
   ]
  },
  {
   "cell_type": "code",
   "execution_count": null,
   "metadata": {},
   "outputs": [],
   "source": [
    "\n",
    "        filters = []\n",
    "        for s, e in segments_index:\n",
    "            filters.append({\"id\": {\"$gte\": s, \"$lte\": e}})\n",
    "        pipeline = [\n",
    "            {\n",
    "                \"$match\": {\"$or\": filters}\n",
    "            }\n",
    "        ]\n",
    "\n",
    "        # Find documents matching the criteria\n",
    "        results = collection.aggregate(pipeline)\n"
   ]
  }
 ],
 "metadata": {
  "kernelspec": {
   "display_name": "Python 3",
   "language": "python",
   "name": "python3"
  },
  "language_info": {
   "codemirror_mode": {
    "name": "ipython",
    "version": 3
   },
   "file_extension": ".py",
   "mimetype": "text/x-python",
   "name": "python",
   "nbconvert_exporter": "python",
   "pygments_lexer": "ipython3",
   "version": "3.10.12"
  }
 },
 "nbformat": 4,
 "nbformat_minor": 2
}
